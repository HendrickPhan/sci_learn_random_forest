{
 "cells": [
  {
   "cell_type": "code",
   "execution_count": 1,
   "id": "tight-charity",
   "metadata": {},
   "outputs": [],
   "source": [
    "import pandas as pd\n",
    "import numpy as np\n",
    "from sklearn.model_selection import train_test_split\n",
    "from sklearn.impute import SimpleImputer\n",
    "import matplotlib.pyplot as plt\n",
    "from flask import Flask, request\n",
    "from sklearn.pipeline import Pipeline\n",
    "from sklearn.preprocessing import StandardScaler\n",
    "from sklearn.compose import ColumnTransformer\n",
    "from sklearn.ensemble import RandomForestRegressor, RandomForestClassifier\n",
    "from sklearn.metrics import mean_squared_error\n",
    "from sklearn.model_selection import GridSearchCV\n",
    "\n",
    "dataset = pd.read_csv('dataset/data.csv')\n",
    "dataset = dataset.dropna()\n",
    "dataset.head()\n",
    "\n",
    "train_set, test_set = train_test_split(dataset, test_size=0.2, random_state=12)\n",
    "test_set.head()\n",
    "\n",
    "train_datas = train_set.drop(\"paid_loan\", axis=1)\n",
    "train_labels = train_set[\"paid_loan\"].copy()\n",
    "\n",
    "test_datas = test_set.drop(\"paid_loan\", axis=1)\n",
    "test_labels = test_set[\"paid_loan\"].copy()\n"
   ]
  },
  {
   "cell_type": "code",
   "execution_count": 2,
   "id": "sophisticated-neighbor",
   "metadata": {},
   "outputs": [],
   "source": [
    "# pipe line to preprocess data\n",
    "num_pipeline = Pipeline([\n",
    "    ('imputer', SimpleImputer(strategy=\"median\")),\n",
    "    #('std_scaler', StandardScaler()),\n",
    "])\n",
    "num_attribs = list(train_datas)\n",
    "full_pipeline = ColumnTransformer([\n",
    "    (\"num\", num_pipeline, num_attribs),\n",
    "])\n",
    "data_prepared = full_pipeline.fit_transform(train_datas)\n",
    "test_data_prepared = full_pipeline.fit_transform(test_datas)"
   ]
  },
  {
   "cell_type": "code",
   "execution_count": 3,
   "id": "rolled-archives",
   "metadata": {},
   "outputs": [
    {
     "data": {
      "text/plain": [
       "GridSearchCV(cv=5, estimator=RandomForestRegressor(),\n",
       "             param_grid=[{'max_features': [2, 3, 4],\n",
       "                          'n_estimators': [1, 2, 3, 4, 5, 6, 7, 8, 9, 10]},\n",
       "                         {'bootstrap': [False], 'max_features': [2, 3, 4],\n",
       "                          'n_estimators': [1, 2, 3, 4, 5, 6, 7, 8, 9, 10]}],\n",
       "             return_train_score=True, scoring='neg_mean_squared_error')"
      ]
     },
     "execution_count": 3,
     "metadata": {},
     "output_type": "execute_result"
    }
   ],
   "source": [
    "# train model\n",
    "\n",
    "param_grid = [\n",
    "    {'n_estimators': [1,2,3,4,5,6,7,8,9,10], 'max_features': [2,3,4]},\n",
    "    {'bootstrap': [False], 'n_estimators': [1,2,3,4,5,6,7,8,9,10], 'max_features': [2,3,4]},\n",
    "]\n",
    "forest_reg = RandomForestRegressor()\n",
    "grid_search = GridSearchCV(forest_reg, param_grid, cv=5,\n",
    "    scoring='neg_mean_squared_error',\n",
    "    return_train_score=True\n",
    ")\n",
    "grid_search.fit(data_prepared, train_labels)\n"
   ]
  },
  {
   "cell_type": "code",
   "execution_count": 4,
   "id": "martial-ecuador",
   "metadata": {},
   "outputs": [
    {
     "data": {
      "text/plain": [
       "{'max_features': 2, 'n_estimators': 9}"
      ]
     },
     "execution_count": 4,
     "metadata": {},
     "output_type": "execute_result"
    }
   ],
   "source": [
    "grid_search.best_params_"
   ]
  },
  {
   "cell_type": "code",
   "execution_count": 5,
   "id": "favorite-shooting",
   "metadata": {},
   "outputs": [
    {
     "data": {
      "text/plain": [
       "RandomForestRegressor(max_features=2, n_estimators=9)"
      ]
     },
     "execution_count": 5,
     "metadata": {},
     "output_type": "execute_result"
    }
   ],
   "source": [
    "grid_search.best_estimator_"
   ]
  },
  {
   "cell_type": "code",
   "execution_count": 6,
   "id": "tribal-mediterranean",
   "metadata": {},
   "outputs": [],
   "source": [
    "# forest_reg = RandomForestRegressor(bootstrap=False, max_features=2, n_estimators=10)\n",
    "forest_reg = grid_search.best_estimator_"
   ]
  },
  {
   "cell_type": "code",
   "execution_count": 7,
   "id": "congressional-minneapolis",
   "metadata": {},
   "outputs": [
    {
     "data": {
      "text/plain": [
       "RandomForestRegressor(max_features=2, n_estimators=9)"
      ]
     },
     "execution_count": 7,
     "metadata": {},
     "output_type": "execute_result"
    }
   ],
   "source": [
    "forest_reg.fit(data_prepared, train_labels)"
   ]
  },
  {
   "cell_type": "code",
   "execution_count": 8,
   "id": "round-charge",
   "metadata": {},
   "outputs": [
    {
     "name": "stdout",
     "output_type": "stream",
     "text": [
      "0.7770723104056437\n"
     ]
    }
   ],
   "source": [
    "score = forest_reg.score(test_data_prepared, test_labels)\n",
    "print(score)"
   ]
  },
  {
   "cell_type": "code",
   "execution_count": 14,
   "id": "another-packing",
   "metadata": {},
   "outputs": [
    {
     "name": "stdout",
     "output_type": "stream",
     "text": [
      "[[100. 100.  20. 500.]]\n"
     ]
    }
   ],
   "source": [
    "my_test = pd.DataFrame({\n",
    "    \"avg_out_call_per_month\": 100,\n",
    "    \"avg_in_call_per_month\": 100,\n",
    "    \"avg_miss_call_per_month\": 20,\n",
    "    \"avg_spend_per_month\": 500\n",
    "}, index=[0])\n",
    "my_test_prepared = full_pipeline.fit_transform(my_test)\n",
    "print(my_test_prepared)"
   ]
  },
  {
   "cell_type": "code",
   "execution_count": 15,
   "id": "still-willow",
   "metadata": {},
   "outputs": [],
   "source": [
    "predictions = forest_reg.predict(my_test_prepared)"
   ]
  },
  {
   "cell_type": "code",
   "execution_count": 16,
   "id": "israeli-memorabilia",
   "metadata": {
    "scrolled": true
   },
   "outputs": [
    {
     "name": "stdout",
     "output_type": "stream",
     "text": [
      "[0.6666666666666666]\n"
     ]
    }
   ],
   "source": [
    "print(list(predictions))"
   ]
  },
  {
   "cell_type": "code",
   "execution_count": 12,
   "id": "mounted-algebra",
   "metadata": {},
   "outputs": [
    {
     "data": {
      "text/html": [
       "<div>\n",
       "<style scoped>\n",
       "    .dataframe tbody tr th:only-of-type {\n",
       "        vertical-align: middle;\n",
       "    }\n",
       "\n",
       "    .dataframe tbody tr th {\n",
       "        vertical-align: top;\n",
       "    }\n",
       "\n",
       "    .dataframe thead th {\n",
       "        text-align: right;\n",
       "    }\n",
       "</style>\n",
       "<table border=\"1\" class=\"dataframe\">\n",
       "  <thead>\n",
       "    <tr style=\"text-align: right;\">\n",
       "      <th></th>\n",
       "      <th>avg_out_call_per_month</th>\n",
       "      <th>avg_in_call_per_month</th>\n",
       "      <th>avg_miss_call_per_month</th>\n",
       "      <th>avg_spend_per_month</th>\n",
       "      <th>paid_loan</th>\n",
       "    </tr>\n",
       "  </thead>\n",
       "  <tbody>\n",
       "    <tr>\n",
       "      <th>83</th>\n",
       "      <td>134</td>\n",
       "      <td>93</td>\n",
       "      <td>33</td>\n",
       "      <td>60</td>\n",
       "      <td>0</td>\n",
       "    </tr>\n",
       "    <tr>\n",
       "      <th>135</th>\n",
       "      <td>153</td>\n",
       "      <td>262</td>\n",
       "      <td>121</td>\n",
       "      <td>220</td>\n",
       "      <td>0</td>\n",
       "    </tr>\n",
       "    <tr>\n",
       "      <th>148</th>\n",
       "      <td>57</td>\n",
       "      <td>46</td>\n",
       "      <td>5</td>\n",
       "      <td>20</td>\n",
       "      <td>1</td>\n",
       "    </tr>\n",
       "    <tr>\n",
       "      <th>45</th>\n",
       "      <td>223</td>\n",
       "      <td>23</td>\n",
       "      <td>21</td>\n",
       "      <td>10</td>\n",
       "      <td>0</td>\n",
       "    </tr>\n",
       "    <tr>\n",
       "      <th>103</th>\n",
       "      <td>345</td>\n",
       "      <td>23</td>\n",
       "      <td>3</td>\n",
       "      <td>100</td>\n",
       "      <td>1</td>\n",
       "    </tr>\n",
       "  </tbody>\n",
       "</table>\n",
       "</div>"
      ],
      "text/plain": [
       "     avg_out_call_per_month  avg_in_call_per_month  avg_miss_call_per_month  \\\n",
       "83                      134                     93                       33   \n",
       "135                     153                    262                      121   \n",
       "148                      57                     46                        5   \n",
       "45                      223                     23                       21   \n",
       "103                     345                     23                        3   \n",
       "\n",
       "     avg_spend_per_month  paid_loan  \n",
       "83                    60          0  \n",
       "135                  220          0  \n",
       "148                   20          1  \n",
       "45                    10          0  \n",
       "103                  100          1  "
      ]
     },
     "execution_count": 12,
     "metadata": {},
     "output_type": "execute_result"
    }
   ],
   "source": [
    "test_set.head()\n"
   ]
  },
  {
   "cell_type": "code",
   "execution_count": 13,
   "id": "square-italian",
   "metadata": {},
   "outputs": [
    {
     "data": {
      "image/png": "[encoded data removed]",
      "text/plain": [
       "<Figure size 1440x1080 with 6 Axes>"
      ]
     },
     "metadata": {
      "needs_background": "light"
     },
     "output_type": "display_data"
    }
   ],
   "source": [
    "test_set.hist(bins=50, figsize=(20,15))\n",
    "plt.show()\n"
   ]
  },
  {
   "cell_type": "code",
   "execution_count": null,
   "id": "amateur-gauge",
   "metadata": {},
   "outputs": [],
   "source": []
  }
 ],
 "metadata": {
  "kernelspec": {
   "display_name": "Python 3",
   "language": "python",
   "name": "python3"
  },
  "language_info": {
   "codemirror_mode": {
    "name": "ipython",
    "version": 3
   },
   "file_extension": ".py",
   "mimetype": "text/x-python",
   "name": "python",
   "nbconvert_exporter": "python",
   "pygments_lexer": "ipython3",
   "version": "3.8.5"
  }
 },
 "nbformat": 4,
 "nbformat_minor": 5
}
